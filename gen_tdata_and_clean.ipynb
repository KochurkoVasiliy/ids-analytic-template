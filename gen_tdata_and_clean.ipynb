{
 "cells": [
  {
   "cell_type": "code",
   "id": "initial_id",
   "metadata": {
    "collapsed": true,
    "ExecuteTime": {
     "end_time": "2024-06-26T18:22:17.153088Z",
     "start_time": "2024-06-26T18:22:17.021362Z"
    }
   },
   "source": [
    "import random\n",
    "from faker import Faker\n",
    "\n",
    "fake = Faker('ru_RU')"
   ],
   "outputs": [],
   "execution_count": 91
  },
  {
   "metadata": {
    "ExecuteTime": {
     "end_time": "2024-06-26T18:22:17.183584Z",
     "start_time": "2024-06-26T18:22:17.153088Z"
    }
   },
   "cell_type": "code",
   "source": [
    "factories = [\n",
    "    {\"GLN\": \"4810000000001\", \"Name\": \"Савушкин продукт\"},\n",
    "    {\"GLN\": \"4810000000002\", \"Name\": \"Слуцкий СК\"},\n",
    "    {\"GLN\": \"4810000000003\", \"Name\": \"Бабушкина крынка\"},\n",
    "    {\"GLN\": \"4810000000004\", \"Name\": \"Молочный Мир\"},\n",
    "    {\"GLN\": \"4810000000005\", \"Name\": \"Лидский МКК\"},\n",
    "    {\"GLN\": \"4810000000006\", \"Name\": \"ММЗ №1\"},\n",
    "    {\"GLN\": \"4810000000007\", \"Name\": \"Рогачевский МКК\"},\n",
    "    {\"GLN\": \"4810000000008\", \"Name\": \"Беллакт\"},\n",
    "    {\"GLN\": \"4810000000009\", \"Name\": \"Туровский МК\"},\n",
    "    {\"GLN\": \"4810000000010\", \"Name\": \"Милкавита\"},\n",
    "    {\"GLN\": \"4810000000011\", \"Name\": \"Здравушка-милк\"},\n",
    "    {\"GLN\": \"4810000000012\", \"Name\": \"Кобринский МСЗ\"},\n",
    "    {\"GLN\": \"4810000000013\", \"Name\": \"Калинковичский МК\"},\n",
    "    {\"GLN\": \"4810000000014\", \"Name\": \"Глубокский МКК\"},\n",
    "    {\"GLN\": \"4810000000015\", \"Name\": \"Молодечненский МК\"},\n",
    "    {\"GLN\": \"4810000000016\", \"Name\": \"Несвижский завод детского питания\"},\n",
    "    {\"GLN\": \"4810000000017\", \"Name\": \"Молочные горки\"},\n",
    "    {\"GLN\": \"4810000000018\", \"Name\": \"Пружанский МЗ\"},\n",
    "    {\"GLN\": \"4810000000019\", \"Name\": \"Молочный гостинец\"},\n",
    "    {\"GLN\": \"4810000000020\", \"Name\": \"Верхнедвинский МСЗ\"}\n",
    "]\n",
    "\n",
    "brands = [\"Коровкино\", \"Слуцкий\", \"Бабушкина крынка\", \"Молочный Мир\", \"Лидский\",\n",
    "          \"ММЗ №1\", \"Рогачевский\", \"Беллакт\", \"Туровский\", \"Милкавита\",\n",
    "          \"Здравушка-милк\", \"Кобринский\", \"Калинковичский\", \"Глубокский\",\n",
    "          \"Молодечненский\", \"Несвижский\", \"Молочные горки\", \"Пружанский\",\n",
    "          \"Молочный гостинец\", \"Верхнедвинский\"]\n",
    "\n",
    "subbrands = [\"Легкое\", \"Здоровое\", \"Натуральное\", \"Лактозафри\", \"Пробиотик\",\n",
    "             \"Классическое\", \"Фитнес\", \"Детское\", \"Экстра\", \"Премиум\",\n",
    "             \"Эко\", \"Фермерское\", \"Сырое\", \"Свежее\", \"Молочное\",\n",
    "             \"Йогуртовое\", \"Творожное\", \"Медовое\", \"Фруктовое\", \"Ягодное\"]\n",
    "\n",
    "product_types = [\"Молоко\", \"Йогурт\", \"Творог\", \"Сыр\", \"Глазированные сырки\",\n",
    "                 \"Масло\", \"Сметана\", \"Кефир\", \"Сливки\", \"Простокваша\"]\n",
    "\n",
    "def generate_factories_list(num):\n",
    "    factories_list = random.choices(factories, k=num)\n",
    "    return factories_list"
   ],
   "id": "499265ee555cb285",
   "outputs": [],
   "execution_count": 92
  },
  {
   "metadata": {
    "ExecuteTime": {
     "end_time": "2024-06-26T18:22:17.214376Z",
     "start_time": "2024-06-26T18:22:17.184589Z"
    }
   },
   "cell_type": "code",
   "source": [
    "def generate_products(num, factories_list, brands_list, subbrands_list):\n",
    "    products = []\n",
    "    for _ in range(num):\n",
    "        liquid_products = [\"Молоко\", \"Кефир\", \"Сливки\", \"Простокваша\"]\n",
    "        factory = random.choice(factories_list)\n",
    "        brand = random.choice(brands_list)\n",
    "        subbrand = random.choice(subbrands_list)\n",
    "        product_type = random.choice(product_types)\n",
    "        fat_content = round(random.uniform(1, 5), 2)\n",
    "        protein_content = round(random.uniform(1, 5), 2)\n",
    "        mass_unit = \"GR\"\n",
    "        for_liquid_packaging = [\"ПАКЕТ\", \"БУТЫЛКА\"]\n",
    "        other_packaging = [\"ТЕРМОУСАДОЧНАЯ/УСАДОЧНАЯ УПАКОВКА\", \"ПАКЕТ\"]\n",
    "        packaging_type = \"ПАКЕТ\"\n",
    "        if product_type in liquid_products:\n",
    "            mass_unit = \"ML\"\n",
    "            packaging_type = for_liquid_packaging[random.randint(0, 1)]\n",
    "        elif product_type == \"Йогурт\":\n",
    "            packaging_type = \"БАНКА НЕМЕТАЛЛИЧЕСКАЯ\"\n",
    "        else:\n",
    "            packaging_type = other_packaging[random.randint(0, 1)]\n",
    "            \n",
    "            \n",
    "            \n",
    "        mass_net = random.randint(950, 2000)\n",
    "        mass_gross = mass_net + random.randint(15, 40)\n",
    "        \n",
    "        product = {\n",
    "            \"GTIN\": f\"481{random.randint(100000000000, 999999999999)}\",\n",
    "            \"FunctionNameRu\": product_type,\n",
    "            \"BrandRu\": brand,\n",
    "            \"SubBrandRu\": subbrand,\n",
    "            \"AdditionalInfoRu\": fake.bs(),\n",
    "            \"Quantity\": {\"Unit\": mass_unit, \"Value\": mass_gross},\n",
    "            \"Mass\": {\"Unit\": mass_unit, \"Net\": mass_net, \"Gross\": mass_gross},\n",
    "            \"Dimensions\": {\"Width\": random.randint(100, 200), \"Depth\": random.randint(170, 250), \"Height\": random.randint(20, 300)},\n",
    "            \"OkrbCode\": \"10.51.11.420\",\n",
    "            \"GpcClassification\": {\n",
    "                \"GpcClass1\": \"50000000\",\n",
    "                \"GpcClass2\": \"50130000\",\n",
    "                \"GpcClass3\": \"50131700\",\n",
    "                \"GpcClass4\": \"10000025\",\n",
    "                \"DataAnalyticsCodes\": random.choices([\n",
    "                    \"20000142-30002654\", \"20000245-30002960\", \"20000123-30002967\",\n",
    "                    \"20000128-30001780\", \"20000163-30000785\"], k=5)\n",
    "            },\n",
    "            \"TnvedCode\": \"0401 20 110 9\",\n",
    "            \"PackagingLevel\": \"BASE_UNIT_OR_EACH\",\n",
    "            \"ProductType\": \"Consumer unit [CU]\",\n",
    "            \"CountryInfo\": {\"Production\": \"112\", \"LastProcessing\": \"112\", \"Packaging\": \"112\"},\n",
    "            \"Manufacturer\": {\"GLN\": factory[\"GLN\"], \"Name\": factory[\"Name\"]},\n",
    "            \"Provider\": {\"GLN\": factory[\"GLN\"], \"Name\": factory[\"Name\"]},\n",
    "            \"Compound\": \"молоко нормализованное\",\n",
    "            \"FoodCharacteristics\": {\n",
    "                \"EnergyValueKcal\": round(random.uniform(40, 100), 2),\n",
    "                \"EnergyValueKJ\": round(random.uniform(150, 400), 2),\n",
    "                \"Protein\": round(random.uniform(1, 5), 2),\n",
    "                \"Grease\": round(random.uniform(1, 5), 2),\n",
    "                \"Carbohydrates\": round(random.uniform(1, 10), 2)\n",
    "            },\n",
    "            \"StorageConditions\": {\n",
    "                \"ShelfLifeUnit\": \"D\",\n",
    "                \"ShelfLife\": random.randint(1, 30),\n",
    "                \"MinStorageTemperature\": random.randint(0, 10),\n",
    "                \"MaxStorageTemperature\": random.randint(10, 20),\n",
    "                \"MinRelativeHumidity\": random.randint(0, 50),\n",
    "                \"MaxRelativeHumidity\": random.randint(50, 100)\n",
    "            },\n",
    "            \"PackagingCharacteristics\": {\"EANCOMClassification\": \"PLP\"},\n",
    "            \"Compliance\": {\n",
    "                \"ComplianceRequirements\": \"[EAC Mark] [COMPLIANT_WITH_STATE_ENVIRONMENT_REQUIREMENTS]\",\n",
    "                \"HygienicRegistrationNumber\": fake.ean8(),\n",
    "                \"HygienicRegistrationDate\": fake.date_time_this_decade(before_now=True, after_now=False, tzinfo=None).isoformat(),\n",
    "                \"HygienicRegistrationExpiryDate\": fake.date_time_this_decade(before_now=False, after_now=True, tzinfo=None).isoformat(),\n",
    "                \"RegistrationCertificateNumber\": fake.ean8(),\n",
    "                \"RegistrationCertificateDate\": fake.date_time_this_decade(before_now=True, after_now=False, tzinfo=None).isoformat(),\n",
    "                \"BelarusCertificationNumber\": fake.ean8(),\n",
    "                \"BelarusCertificationStartDate\": fake.date_time_this_decade(before_now=True, after_now=False, tzinfo=None).isoformat(),\n",
    "                \"BelarusCertificationEndDate\": fake.date_time_this_decade(before_now=False, after_now=True, tzinfo=None).isoformat(),\n",
    "                \"BelarusDeclarationNumber\": fake.ean8(),\n",
    "                \"BelarusDeclarationStartDate\": fake.date_time_this_decade(before_now=True, after_now=False, tzinfo=None).isoformat(),\n",
    "                \"BelarusDeclarationEndDate\": fake.date_time_this_decade(before_now=False, after_now=True, tzinfo=None).isoformat(),\n",
    "                \"CustomsUnionCertificationNumber\": fake.ean8(),\n",
    "                \"CustomsUnionCertificationStartDate\": fake.date_time_this_decade(before_now=True, after_now=False, tzinfo=None).isoformat(),\n",
    "                \"CustomsUnionCertificationEndDate\": fake.date_time_this_decade(before_now=False, after_now=True, tzinfo=None).isoformat(),\n",
    "                \"CustomsUnionDeclarationNumber\": fake.ean8(),\n",
    "                \"CustomsUnionDeclarationStartDate\": fake.date_time_this_decade(before_now=True, after_now=False, tzinfo=None).isoformat(),\n",
    "                \"CustomsUnionDeclarationEndDate\": fake.date_time_this_decade(before_now=False, after_now=True, tzinfo=None).isoformat()\n",
    "            },\n",
    "            \"DairyProduct\": {\n",
    "                \"LabelName\": f\"{brand} {subbrand} {product_type} пастеризованное, массовая доля жира {fat_content} %, полиэтиленовая пленка\",\n",
    "                \"Type\": product_type,\n",
    "                \"RawMaterialOrigin\": \"КОРОВА\",\n",
    "                \"IsUnderVeterinaryControl\": random.choice([True, False]),\n",
    "                \"FatContent\": fat_content,\n",
    "                \"ProteinContent\": protein_content,\n",
    "                \"IsMedicalOrSpecialDiet\": random.choices([True, False], [0.1, 0.9])[0],\n",
    "                \"IsInfantNutrition\": random.choices([True, False], [0.1, 0.9])[0],\n",
    "                \"PackagingType\": packaging_type,\n",
    "                \"PackagingMaterial\": \"LLDPE\",\n",
    "                \"IsShelfLifeUpTo40Days\": random.choices([True, False], [0.1, 0.9])[0],\n",
    "                \"ManufacturerCountry\": \"112\",\n",
    "                \"ManufacturerTaxIdentifier\": \"123456789\"\n",
    "            }\n",
    "        }\n",
    "        products.append(product)\n",
    "\n",
    "    return products"
   ],
   "id": "43cb9bc81542f30",
   "outputs": [],
   "execution_count": 93
  },
  {
   "metadata": {
    "ExecuteTime": {
     "end_time": "2024-06-26T18:22:18.199030Z",
     "start_time": "2024-06-26T18:22:17.215886Z"
    }
   },
   "cell_type": "code",
   "source": [
    "def generate_json_file(num):\n",
    "    factories_list = generate_factories_list(num)\n",
    "    brands_list = brands * (num // len(brands)) + brands[:num % len(brands)]\n",
    "    subbrands_list = subbrands * (num // len(subbrands)) + subbrands[:num % len(subbrands)]\n",
    "\n",
    "    products = generate_products(num, factories_list, brands_list, subbrands_list)\n",
    "\n",
    "    with open('products.json', 'w', encoding='utf-8') as f:\n",
    "        json.dump(products, f, ensure_ascii=False, indent=4, default=str)\n",
    "\n",
    "generate_json_file(1000)"
   ],
   "id": "d5cba4d44726f950",
   "outputs": [],
   "execution_count": 94
  },
  {
   "metadata": {
    "ExecuteTime": {
     "end_time": "2024-06-26T18:22:18.278417Z",
     "start_time": "2024-06-26T18:22:18.201039Z"
    }
   },
   "cell_type": "code",
   "source": [
    "import json\n",
    "import csv\n",
    "\n",
    "with open('products.json', 'r', encoding='utf-8') as f:\n",
    "    products_data = json.load(f)"
   ],
   "id": "e38b5c61524bdc87",
   "outputs": [],
   "execution_count": 95
  },
  {
   "metadata": {
    "ExecuteTime": {
     "end_time": "2024-06-26T18:22:18.295132Z",
     "start_time": "2024-06-26T18:22:18.278417Z"
    }
   },
   "cell_type": "code",
   "source": [
    "def clean_product_data(product):\n",
    "    fields_to_remove = [\n",
    "        'Dimensions', \n",
    "        'OkrbCode',\n",
    "        'PackagingLevel',\n",
    "        'CountryInfo',\n",
    "        'PackagingCharacteristics',\n",
    "        'Compound',\n",
    "        'Compliance'\n",
    "    ]\n",
    "\n",
    "    for field in fields_to_remove:\n",
    "        if field in product:\n",
    "            del product[field]\n",
    "\n",
    "    product['Quantity_Unit'] = product['Quantity']['Unit']\n",
    "    product['Quantity_Value'] = product['Quantity']['Value']\n",
    "    del product['Quantity']\n",
    "\n",
    "    product['Mass_Net'] = product['Mass']['Net']\n",
    "    product['Mass_Gross'] = product['Mass']['Gross']\n",
    "    del product['Mass']\n",
    "\n",
    "    product['GpcClass1'] = product['GpcClassification']['GpcClass1']\n",
    "    product['GpcClass2'] = product['GpcClassification']['GpcClass2']\n",
    "    product['GpcClass3'] = product['GpcClassification']['GpcClass3']\n",
    "    product['GpcClass4'] = product['GpcClassification']['GpcClass4']\n",
    "    del product['GpcClassification']\n",
    "\n",
    "    product['Manufacturer_GLN'] = product['Manufacturer']['GLN']\n",
    "    product['Manufacturer_Name'] = product['Manufacturer']['Name']\n",
    "    del product['Manufacturer']\n",
    "\n",
    "    product['Provider_GLN'] = product['Provider']['GLN']\n",
    "    product['Provider_Name'] = product['Provider']['Name']\n",
    "    del product['Provider']\n",
    "\n",
    "    product['StorageConditions_ShelfLifeUnit'] = product['StorageConditions']['ShelfLifeUnit']\n",
    "    product['StorageConditions_ShelfLife'] = product['StorageConditions']['ShelfLife']\n",
    "    product['StorageConditions_MinStorageTemperature'] = product['StorageConditions']['MinStorageTemperature']\n",
    "    product['StorageConditions_MaxStorageTemperature'] = product['StorageConditions']['MaxStorageTemperature']\n",
    "    product['StorageConditions_MinRelativeHumidity'] = product['StorageConditions']['MinRelativeHumidity']\n",
    "    product['StorageConditions_MaxRelativeHumidity'] = product['StorageConditions']['MaxRelativeHumidity']\n",
    "    del product['StorageConditions']\n",
    "\n",
    "    product['EnergyValueKcal'] = product['FoodCharacteristics']['EnergyValueKcal']\n",
    "    product['EnergyValueKJ'] = product['FoodCharacteristics']['EnergyValueKJ']\n",
    "    product['Protein'] = product['FoodCharacteristics']['Protein']\n",
    "    product['Grease'] = product['FoodCharacteristics']['Grease']\n",
    "    product['Carbohydrates'] = product['FoodCharacteristics']['Carbohydrates']\n",
    "    del product['FoodCharacteristics']\n",
    "\n",
    "    product['DairyProduct_LabelName'] = product['DairyProduct']['LabelName']\n",
    "    product['DairyProduct_Type'] = product['DairyProduct']['Type']\n",
    "    product['DairyProduct_RawMaterialOrigin'] = product['DairyProduct']['RawMaterialOrigin']\n",
    "    product['DairyProduct_IsUnderVeterinaryControl'] = product['DairyProduct']['IsUnderVeterinaryControl']\n",
    "    product['DairyProduct_FatContent'] = product['DairyProduct']['FatContent']\n",
    "    product['DairyProduct_ProteinContent'] = product['DairyProduct']['ProteinContent']\n",
    "    product['DairyProduct_IsMedicalOrSpecialDiet'] = product['DairyProduct']['IsMedicalOrSpecialDiet']\n",
    "    product['DairyProduct_IsInfantNutrition'] = product['DairyProduct']['IsInfantNutrition']\n",
    "    product['DairyProduct_PackagingType'] = product['DairyProduct']['PackagingType']\n",
    "    product['DairyProduct_PackagingMaterial'] = product['DairyProduct']['PackagingMaterial']\n",
    "    product['DairyProduct_IsShelfLifeUpTo40Days'] = product['DairyProduct']['IsShelfLifeUpTo40Days']\n",
    "    product['DairyProduct_ManufacturerCountry'] = product['DairyProduct']['ManufacturerCountry']\n",
    "    product['DairyProduct_ManufacturerTaxIdentifier'] = product['DairyProduct']['ManufacturerTaxIdentifier']\n",
    "    del product['DairyProduct']\n",
    "\n",
    "    return product"
   ],
   "id": "9ef26d7903d8afe1",
   "outputs": [],
   "execution_count": 96
  },
  {
   "metadata": {
    "ExecuteTime": {
     "end_time": "2024-06-26T18:22:18.356716Z",
     "start_time": "2024-06-26T18:22:18.298141Z"
    }
   },
   "cell_type": "code",
   "source": [
    "cleaned_products = [clean_product_data(product) for product in products_data]\n",
    "\n",
    "all_keys = set()\n",
    "for product in cleaned_products:\n",
    "    all_keys.update(product.keys())\n",
    "\n",
    "csv_fields = list(all_keys)\n",
    "\n",
    "csv_filename = 'cleaned_products.csv'\n",
    "with open(csv_filename, 'w', encoding='utf-8', newline='') as csv_file:\n",
    "    writer = csv.DictWriter(csv_file, fieldnames=csv_fields)\n",
    "    writer.writeheader()\n",
    "    writer.writerows(cleaned_products)\n",
    "\n",
    "print(f'Данные были успешно записаны в файл {csv_filename}')"
   ],
   "id": "d91e242b6aa8ca58",
   "outputs": [
    {
     "name": "stdout",
     "output_type": "stream",
     "text": [
      "Данные были успешно записаны в файл cleaned_products.csv\n"
     ]
    }
   ],
   "execution_count": 97
  },
  {
   "metadata": {
    "ExecuteTime": {
     "end_time": "2024-06-26T18:22:18.361592Z",
     "start_time": "2024-06-26T18:22:18.357725Z"
    }
   },
   "cell_type": "code",
   "source": "",
   "id": "3d5e4b26a83cd7e4",
   "outputs": [],
   "execution_count": 97
  }
 ],
 "metadata": {
  "kernelspec": {
   "display_name": "Python 3",
   "language": "python",
   "name": "python3"
  },
  "language_info": {
   "codemirror_mode": {
    "name": "ipython",
    "version": 2
   },
   "file_extension": ".py",
   "mimetype": "text/x-python",
   "name": "python",
   "nbconvert_exporter": "python",
   "pygments_lexer": "ipython2",
   "version": "2.7.6"
  }
 },
 "nbformat": 4,
 "nbformat_minor": 5
}
