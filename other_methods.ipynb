{
 "cells": [
  {
   "cell_type": "code",
   "id": "initial_id",
   "metadata": {
    "collapsed": true,
    "ExecuteTime": {
     "end_time": "2024-07-01T21:38:39.233062Z",
     "start_time": "2024-07-01T21:38:39.175314Z"
    }
   },
   "source": [
    "import pandas as pd\n",
    "from sklearn.metrics.pairwise import cosine_similarity\n",
    "from sklearn.preprocessing import MinMaxScaler\n",
    "\n",
    "df = pd.read_csv('cleaned_products.csv')\n",
    "\n",
    "features = ['DairyProduct_ProteinContent', 'DairyProduct_FatContent', 'Carbohydrates', 'Grease']\n",
    "\n",
    "scaler = MinMaxScaler()\n",
    "df[features] = scaler.fit_transform(df[features])\n",
    "\n",
    "target_function_name = 'Сыр'\n",
    "filtered_df = df[df['FunctionNameRu'] == target_function_name]\n",
    "\n",
    "if filtered_df.empty:\n",
    "    print(f\"Нет продуктов с функциональным именем '{target_function_name}'\")\n",
    "else:\n",
    "    target_product_index = filtered_df.index[0]\n",
    "\n",
    "    target_product_features = df.loc[target_product_index, features].values.reshape(1, -1)\n",
    "\n",
    "    cosine_similarities = cosine_similarity(filtered_df[features], target_product_features)\n",
    "\n",
    "    filtered_df.loc[filtered_df['FunctionNameRu'] == target_function_name, 'Similarity'] = cosine_similarities.flatten()\n",
    "\n",
    "    filtered_df_sorted = filtered_df.sort_values(by='Similarity', ascending=False)\n",
    "\n",
    "    top_similar_products = filtered_df_sorted.head(6)\n",
    "    result = top_similar_products[['BrandRu', 'FunctionNameRu', 'Grease', 'Carbohydrates', 'DairyProduct_ProteinContent', 'DairyProduct_FatContent', 'Similarity']]\n",
    "    print(result)\n"
   ],
   "outputs": [
    {
     "name": "stdout",
     "output_type": "stream",
     "text": [
      "               BrandRu FunctionNameRu    Grease  Carbohydrates  \\\n",
      "0       Верхнедвинский            Сыр  0.659148       0.095556   \n",
      "893         Кобринский            Сыр  0.764411       0.201111   \n",
      "624          Коровкино            Сыр  0.576441       0.095556   \n",
      "507          Туровский            Сыр  0.558897       0.003333   \n",
      "943  Молочный гостинец            Сыр  0.654135       0.197778   \n",
      "738   Бабушкина крынка            Сыр  0.774436       0.142222   \n",
      "\n",
      "     DairyProduct_ProteinContent  DairyProduct_FatContent  Similarity  \n",
      "0                       0.706767                 0.463659    1.000000  \n",
      "893                     0.977444                 0.694236    0.993802  \n",
      "624                     0.631579                 0.558897    0.991374  \n",
      "507                     0.754386                 0.561404    0.987232  \n",
      "943                     0.674185                 0.629073    0.986327  \n",
      "738                     0.691729                 0.776942    0.978051  \n"
     ]
    },
    {
     "name": "stderr",
     "output_type": "stream",
     "text": [
      "C:\\Users\\kochu\\AppData\\Local\\Temp\\ipykernel_8696\\759541328.py:32: SettingWithCopyWarning: \n",
      "A value is trying to be set on a copy of a slice from a DataFrame.\n",
      "Try using .loc[row_indexer,col_indexer] = value instead\n",
      "\n",
      "See the caveats in the documentation: https://pandas.pydata.org/pandas-docs/stable/user_guide/indexing.html#returning-a-view-versus-a-copy\n",
      "  filtered_df.loc[filtered_df['FunctionNameRu'] == target_function_name, 'Similarity'] = cosine_similarities.flatten()\n"
     ]
    }
   ],
   "execution_count": 6
  },
  {
   "metadata": {},
   "cell_type": "code",
   "source": "",
   "id": "a0081beb4a715788",
   "outputs": [],
   "execution_count": null
  },
  {
   "metadata": {},
   "cell_type": "code",
   "outputs": [],
   "execution_count": null,
   "source": "",
   "id": "a4dcd27e4525e783"
  }
 ],
 "metadata": {
  "kernelspec": {
   "display_name": "Python 3",
   "language": "python",
   "name": "python3"
  },
  "language_info": {
   "codemirror_mode": {
    "name": "ipython",
    "version": 2
   },
   "file_extension": ".py",
   "mimetype": "text/x-python",
   "name": "python",
   "nbconvert_exporter": "python",
   "pygments_lexer": "ipython2",
   "version": "2.7.6"
  }
 },
 "nbformat": 4,
 "nbformat_minor": 5
}
